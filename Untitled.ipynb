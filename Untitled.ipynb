{
 "cells": [
  {
   "cell_type": "code",
   "execution_count": 3,
   "id": "5cea125d",
   "metadata": {},
   "outputs": [],
   "source": [
    "import pymongo as pym"
   ]
  },
  {
   "cell_type": "code",
   "execution_count": 4,
   "id": "0c0a5fbf",
   "metadata": {},
   "outputs": [],
   "source": [
    "client = pym.MongoClient(\"mongodb://localhost:27017/?readPreference=primary&appname=MongoDB%20Compass&directConnection=true&ssl=false\")"
   ]
  },
  {
   "cell_type": "code",
   "execution_count": 5,
   "id": "82d257a2",
   "metadata": {},
   "outputs": [],
   "source": [
    "db = client.get_database('test')"
   ]
  },
  {
   "cell_type": "code",
   "execution_count": 6,
   "id": "780b5892",
   "metadata": {},
   "outputs": [],
   "source": [
    "reg = db.reg"
   ]
  },
  {
   "cell_type": "code",
   "execution_count": null,
   "id": "22a51df5",
   "metadata": {},
   "outputs": [],
   "source": []
  }
 ],
 "metadata": {
  "kernelspec": {
   "display_name": "Python 3 (ipykernel)",
   "language": "python",
   "name": "python3"
  },
  "language_info": {
   "codemirror_mode": {
    "name": "ipython",
    "version": 3
   },
   "file_extension": ".py",
   "mimetype": "text/x-python",
   "name": "python",
   "nbconvert_exporter": "python",
   "pygments_lexer": "ipython3",
   "version": "3.9.7"
  }
 },
 "nbformat": 4,
 "nbformat_minor": 5
}
